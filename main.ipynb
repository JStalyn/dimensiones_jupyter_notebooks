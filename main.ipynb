{
 "cells": [
  {
   "cell_type": "code",
   "execution_count": 6,
   "metadata": {},
   "outputs": [],
   "source": [
    "#how first step you need import the library numpy\n",
    "import numpy as np"
   ]
  },
  {
   "cell_type": "code",
   "execution_count": 7,
   "metadata": {},
   "outputs": [
    {
     "name": "stdout",
     "output_type": "stream",
     "text": [
      "[3 4 5] 1\n",
      "\n",
      "\n",
      "[[1 2 3]\n",
      " [4 5 6]] 2\n"
     ]
    }
   ],
   "source": [
    "#now we can create a matrix, whith anything values\n",
    "#every value is a number (important)\n",
    "#vector\n",
    "vector = np.array([3,4,5])\n",
    "\n",
    "#matriz\n",
    "matriz = np.array([[1,2,3],[4,5,6]])\n",
    "#with ndim we can see the dimension of the matrix\n",
    "print (vector, np.ndim(vector))\n",
    "print(\"\"\"\n",
    "\"\"\")\n",
    "print (matriz, np.ndim(matriz))"
   ]
  },
  {
   "cell_type": "code",
   "execution_count": 12,
   "metadata": {},
   "outputs": [
    {
     "name": "stdout",
     "output_type": "stream",
     "text": [
      "[[[[[[11 12 13]\n",
      "     [17 18 19]]\n",
      "\n",
      "    [[11 12 13]\n",
      "     [17 18 19]]]]]] 6\n"
     ]
    }
   ],
   "source": [
    "#in a array of two dimensions\n",
    "arraytwo = np.array([[11,12,13],[14,15,16]])\n",
    "#print(arraytwo)\n",
    "#As well  you can put the dimensions without \"print\"\n",
    "#np.ndim(arraytwo)\n",
    "#if you want add a dimension \n",
    "arraythree = np.array([[[11,12,13],[17,18,19]],[[11,12,13],[17,18,19]]], ndmin=6)\n",
    "print (arraythree, np.ndim(arraythree))\n"
   ]
  },
  {
   "cell_type": "code",
   "execution_count": 13,
   "metadata": {},
   "outputs": [
    {
     "name": "stdout",
     "output_type": "stream",
     "text": [
      "[[[[[[11 12 13]\n",
      "     [17 18 19]]\n",
      "\n",
      "    [[11 12 13]\n",
      "     [17 18 19]]]]]]\n",
      "clean...\n",
      "[[[11 12 13]\n",
      "  [17 18 19]]\n",
      "\n",
      " [[11 12 13]\n",
      "  [17 18 19]]]\n"
     ]
    }
   ],
   "source": [
    "#well, now if you want delet dimensions\n",
    "print (arraythree)\n",
    "#if you need wipe\n",
    "print(\"clean...\")\n",
    "arraythre2 = np.squeeze(arraythree)\n",
    "print (arraythre2)"
   ]
  },
  {
   "cell_type": "code",
   "execution_count": 30,
   "metadata": {},
   "outputs": [
    {
     "name": "stdout",
     "output_type": "stream",
     "text": [
      "[[1 2 3]\n",
      " [1 2 3]\n",
      " [1 2 3]] 2\n",
      "add a file\n",
      "[[[1 2 3]\n",
      "  [1 2 3]\n",
      "  [1 2 3]]]\n"
     ]
    },
    {
     "data": {
      "text/plain": [
       "3"
      ]
     },
     "execution_count": 30,
     "metadata": {},
     "output_type": "execute_result"
    }
   ],
   "source": [
    "#case partifular, array 2 dimensions but you need add one more, use \"axis\"\n",
    "rray = np.array([[1,2,3],[1,2,3],[1,2,3]])\n",
    "print (rray, rray.ndim)\n",
    "\n",
    "print (\"add a file\")\n",
    "rray = np.expand_dims([[1,2,3],[1,2,3],[1,2,3]], axis =0)\n",
    "print (rray)\n",
    "#check dimensions\n",
    "rray.ndim"
   ]
  },
  {
   "cell_type": "code",
   "execution_count": null,
   "metadata": {},
   "outputs": [],
   "source": []
  }
 ],
 "metadata": {
  "kernelspec": {
   "display_name": "Python 3.9.12 ('base')",
   "language": "python",
   "name": "python3"
  },
  "language_info": {
   "codemirror_mode": {
    "name": "ipython",
    "version": 3
   },
   "file_extension": ".py",
   "mimetype": "text/x-python",
   "name": "python",
   "nbconvert_exporter": "python",
   "pygments_lexer": "ipython3",
   "version": "3.9.12"
  },
  "orig_nbformat": 4,
  "vscode": {
   "interpreter": {
    "hash": "ad2bdc8ecc057115af97d19610ffacc2b4e99fae6737bb82f5d7fb13d2f2c186"
   }
  }
 },
 "nbformat": 4,
 "nbformat_minor": 2
}
